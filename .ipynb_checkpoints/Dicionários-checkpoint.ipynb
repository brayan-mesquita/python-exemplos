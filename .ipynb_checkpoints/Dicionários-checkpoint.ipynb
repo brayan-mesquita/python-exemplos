{
 "cells": [
  {
   "cell_type": "markdown",
   "metadata": {},
   "source": [
    "DICIONÁRIOS\n",
    "=====\n",
    "*FONTES*\n",
    "\n",
    "[ALURA](https://www.alura.com.br/artigos/trabalhando-com-o-dicionario-no-python?gclid=CjwKCAiAn7L-BRBbEiwAl9UtkAZa_W93TgKai2r9fsKKzaJDE9wFEvtpvY7iUSG1S6sHfNsg_UQ5uxoCv6EQAvD_BwE')"
   ]
  },
  {
   "cell_type": "code",
   "execution_count": 1,
   "metadata": {},
   "outputs": [
    {
     "name": "stdout",
     "output_type": "stream",
     "text": [
      "<class 'list'>\n"
     ]
    }
   ],
   "source": [
    "#criando uma lista de tuplas\n",
    "num = [(1, \"Brayan\"), (2, \"Miguel\"), (3, 'Patricia')]\n",
    "print(type(num))"
   ]
  },
  {
   "cell_type": "code",
   "execution_count": 2,
   "metadata": {},
   "outputs": [
    {
     "name": "stdout",
     "output_type": "stream",
     "text": [
      "O tipo da variável dic é <class 'dict'> e seu conteudo é {1: 'Brayan', 2: 'Miguel', 3: 'Patricia'}\n"
     ]
    }
   ],
   "source": [
    "#utilizando a função 'dict' para transformar LISTA em DICIONÁRIO (chave:valor)\n",
    "dicionario = dict(num)\n",
    "print(f'O tipo da variável dic é {type(dicionario)} e seu conteudo é {dicionario}')"
   ]
  },
  {
   "cell_type": "code",
   "execution_count": 3,
   "metadata": {},
   "outputs": [
    {
     "data": {
      "text/plain": [
       "dict_keys([1, 2, 3])"
      ]
     },
     "execution_count": 3,
     "metadata": {},
     "output_type": "execute_result"
    }
   ],
   "source": [
    "#verificando as chaves do dicionário\n",
    "dicionario.keys()"
   ]
  },
  {
   "cell_type": "code",
   "execution_count": 4,
   "metadata": {},
   "outputs": [
    {
     "data": {
      "text/plain": [
       "dict_values(['Brayan', 'Miguel', 'Patricia'])"
      ]
     },
     "execution_count": 4,
     "metadata": {},
     "output_type": "execute_result"
    }
   ],
   "source": [
    "#verificando os valores do dicionário\n",
    "dicionario.values()"
   ]
  },
  {
   "cell_type": "markdown",
   "metadata": {},
   "source": [
    "# Acessando dicionários"
   ]
  },
  {
   "cell_type": "code",
   "execution_count": 6,
   "metadata": {},
   "outputs": [
    {
     "data": {
      "text/plain": [
       "[('Yan', '1234-5678'),\n",
       " ('Pedro', '9999-9999'),\n",
       " ('Ana', '8765-4321'),\n",
       " ('Marina', '8877-7788')]"
      ]
     },
     "execution_count": 6,
     "metadata": {},
     "output_type": "execute_result"
    }
   ],
   "source": [
    "#contatos em uma lista de ttuplas\n",
    "contatos_lista = [('Yan', '1234-5678'), ('Pedro', '9999-9999'),\n",
    "                    ('Ana', '8765-4321'), ('Marina', '8877-7788')]\n",
    "contatos_lista"
   ]
  },
  {
   "cell_type": "code",
   "execution_count": 11,
   "metadata": {},
   "outputs": [
    {
     "name": "stdout",
     "output_type": "stream",
     "text": [
      "Yan\n",
      "Y\n",
      "9999-999\n"
     ]
    }
   ],
   "source": [
    "#acessando contatos\n",
    "print(contatos_lista[0][0])\n",
    "#acessando partes do nome\n",
    "print(contatos_lista[0][0][0])\n",
    "print(contatos_lista[1][1][0:-1])"
   ]
  },
  {
   "cell_type": "code",
   "execution_count": 12,
   "metadata": {},
   "outputs": [
    {
     "name": "stdout",
     "output_type": "stream",
     "text": [
      "{'Yan': '1234-5678', 'Pedro': '9999-9999', 'Ana': '8765-4321', 'Marina': '8877-7788'}\n"
     ]
    }
   ],
   "source": [
    "#transformando em dicionário com função dict\n",
    "contatos = dict(contatos_lista)\n",
    "print(contatos)"
   ]
  },
  {
   "cell_type": "code",
   "execution_count": 13,
   "metadata": {},
   "outputs": [
    {
     "name": "stdout",
     "output_type": "stream",
     "text": [
      "1234-5678\n"
     ]
    }
   ],
   "source": [
    "#acessando o dicionário atráves da chave python3 imprime o valor\n",
    "print(contatos['Yan'])"
   ]
  },
  {
   "cell_type": "code",
   "execution_count": 14,
   "metadata": {},
   "outputs": [
    {
     "name": "stdout",
     "output_type": "stream",
     "text": [
      "1234-5678\n",
      "Contato não encontrado\n"
     ]
    }
   ],
   "source": [
    "#forma mais amigágel de buscar um valor num dicionário, caso não encontre irá imprimir a mensagem indiciada\n",
    "print(contatos.get('Yan', 'Contato não encontrado'))\n",
    "print(contatos.get('João', 'Contato não encontrado'))"
   ]
  },
  {
   "cell_type": "markdown",
   "metadata": {},
   "source": [
    "# Checando informações em um dicionário"
   ]
  },
  {
   "cell_type": "code",
   "execution_count": 15,
   "metadata": {},
   "outputs": [
    {
     "name": "stdout",
     "output_type": "stream",
     "text": [
      "True\n"
     ]
    }
   ],
   "source": [
    "#neste caso ele apenas checa se existe tal informação e retorna TRUE or FALSE\n",
    "print('Yan' in contatos)"
   ]
  },
  {
   "cell_type": "code",
   "execution_count": 9,
   "metadata": {},
   "outputs": [
    {
     "name": "stdout",
     "output_type": "stream",
     "text": [
      "False\n"
     ]
    }
   ],
   "source": [
    "#Acontece que o in, usado dessa forma, verifica apenas as chaves do dicionário, não os valores\n",
    "print('9999-9999' in contatos)"
   ]
  },
  {
   "cell_type": "code",
   "execution_count": 10,
   "metadata": {},
   "outputs": [
    {
     "name": "stdout",
     "output_type": "stream",
     "text": [
      "True\n"
     ]
    }
   ],
   "source": [
    "#Para obtermos valores, podemos usar o método values():\n",
    "print('9999-9999' in contatos.values())"
   ]
  },
  {
   "cell_type": "markdown",
   "metadata": {},
   "source": [
    "# Removendo itens do dicionário"
   ]
  }
 ],
 "metadata": {
  "kernelspec": {
   "display_name": "Python 3",
   "language": "python",
   "name": "python3"
  },
  "language_info": {
   "codemirror_mode": {
    "name": "ipython",
    "version": 3
   },
   "file_extension": ".py",
   "mimetype": "text/x-python",
   "name": "python",
   "nbconvert_exporter": "python",
   "pygments_lexer": "ipython3",
   "version": "3.8.5"
  }
 },
 "nbformat": 4,
 "nbformat_minor": 4
}
