{
 "cells": [
  {
   "cell_type": "markdown",
   "metadata": {},
   "source": [
    "# Contar de 0 a 100 pulando de 25 em 25"
   ]
  },
  {
   "cell_type": "code",
   "execution_count": 3,
   "metadata": {},
   "outputs": [
    {
     "name": "stdout",
     "output_type": "stream",
     "text": [
      "0\n",
      "25\n",
      "50\n",
      "75\n"
     ]
    }
   ],
   "source": [
    "for i in range(0,100,25):\n",
    "    print(i)"
   ]
  },
  {
   "cell_type": "markdown",
   "metadata": {},
   "source": [
    "# Separa números pares de impares"
   ]
  },
  {
   "cell_type": "code",
   "execution_count": 43,
   "metadata": {},
   "outputs": [
    {
     "name": "stdout",
     "output_type": "stream",
     "text": [
      "Numero pá: 0\n",
      "Número ímpa: 1\n",
      "Numero pá: 2\n",
      "Número ímpa: 3\n",
      "Numero pá: 4\n",
      "Número ímpa: 5\n",
      "Numero pá: 6\n",
      "Número ímpa: 7\n",
      "Numero pá: 8\n",
      "Número ímpa: 9\n",
      "Numero pá: 10\n",
      "Número ímpa: 11\n"
     ]
    }
   ],
   "source": [
    "for x in range(12):\n",
    "    if x % 2 == 0:\n",
    "        print('Numero pá: ' + str(x))\n",
    "    else:\n",
    "        print('Número ímpa: ' + str(x))"
   ]
  },
  {
   "cell_type": "markdown",
   "metadata": {},
   "source": [
    "# Percorrendo itens de listas, dicionários e tuplas"
   ]
  },
  {
   "cell_type": "code",
   "execution_count": 8,
   "metadata": {},
   "outputs": [
    {
     "name": "stdout",
     "output_type": "stream",
     "text": [
      "fusca\n",
      "kombi\n",
      "onix\n"
     ]
    }
   ],
   "source": [
    "#PERCORRENDO LISTAS\n",
    "carros = ['fusca', 'kombi', 'onix']\n",
    "for car in carros:\n",
    "    print(car)"
   ]
  },
  {
   "cell_type": "code",
   "execution_count": 40,
   "metadata": {},
   "outputs": [
    {
     "name": "stdout",
     "output_type": "stream",
     "text": [
      "Os valores são Brayan\n",
      "Os valores são 28\n",
      "\n",
      "\n",
      "As chaves são nome\n",
      "As chaves são idade\n"
     ]
    }
   ],
   "source": [
    "#PERCORRENDO DICIONÁRIOS\n",
    "dici = {'nome': \"Brayan\", 'idade': 28}\n",
    "for d in dici.values():\n",
    "    print(f'Os valores são {d}')\n",
    "print('\\n')\n",
    "for e in dici:\n",
    "    print(f'As chaves são {e}')"
   ]
  },
  {
   "cell_type": "code",
   "execution_count": 42,
   "metadata": {},
   "outputs": [
    {
     "name": "stdout",
     "output_type": "stream",
     "text": [
      "fan 160\n",
      "bmw g310\n"
     ]
    }
   ],
   "source": [
    "#PERCORRENDO TUPLAS\n",
    "tp = ('fan 160', 'bmw g310')\n",
    "for t in tp:\n",
    "    print(t)"
   ]
  },
  {
   "cell_type": "code",
   "execution_count": null,
   "metadata": {},
   "outputs": [],
   "source": []
  }
 ],
 "metadata": {
  "kernelspec": {
   "display_name": "Python 3",
   "language": "python",
   "name": "python3"
  },
  "language_info": {
   "codemirror_mode": {
    "name": "ipython",
    "version": 3
   },
   "file_extension": ".py",
   "mimetype": "text/x-python",
   "name": "python",
   "nbconvert_exporter": "python",
   "pygments_lexer": "ipython3",
   "version": "3.8.5"
  }
 },
 "nbformat": 4,
 "nbformat_minor": 4
}
